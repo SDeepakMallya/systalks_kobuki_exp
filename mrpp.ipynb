{
 "cells": [
  {
   "cell_type": "code",
   "execution_count": 3,
   "metadata": {},
   "outputs": [],
   "source": [
    "from ortools.linear_solver import pywraplp\n",
    "import networkx as nx"
   ]
  },
  {
   "cell_type": "code",
   "execution_count": 22,
   "metadata": {},
   "outputs": [
    {
     "name": "stdout",
     "output_type": "stream",
     "text": [
      "Number of variables = 2\n",
      "Number of constraints = 2\n",
      "Solution:\n",
      "Objective value = 23.0\n",
      "x = 3.0\n",
      "y = 2.0\n",
      "\n",
      "Advanced usage:\n",
      "Problem solved in 8.000000 milliseconds\n",
      "Problem solved in 0 iterations\n",
      "Problem solved in 1 branch-and-bound nodes\n"
     ]
    }
   ],
   "source": [
    "\n",
    "\n",
    "\n",
    "# Create the mip solver with the SCIP backend.\n",
    "solver = pywraplp.Solver.CreateSolver('SCIP')\n",
    "\n",
    "infinity = solver.infinity()\n",
    "# x and y are integer non-negative variables.\n",
    "x = solver.IntVar(0.0, infinity, 'x')\n",
    "y = solver.IntVar(0.0, infinity, 'y')\n",
    "\n",
    "print('Number of variables =', solver.NumVariables())\n",
    "\n",
    "# x + 7 * y <= 17.5.\n",
    "p = x \n",
    "p += 7 * y\n",
    "solver.Add(p <= 17.5)\n",
    "\n",
    "# x <= 3.5.\n",
    "solver.Add(x <= 3.5)\n",
    "\n",
    "print('Number of constraints =', solver.NumConstraints())\n",
    "\n",
    "# Maximize x + 10 * y.\n",
    "solver.Maximize(x + 10 * y)\n",
    "\n",
    "status = solver.Solve()\n",
    "\n",
    "if status == pywraplp.Solver.OPTIMAL:\n",
    "    print('Solution:')\n",
    "    print('Objective value =', solver.Objective().Value())\n",
    "    print('x =', x.solution_value())\n",
    "    print('y =', y.solution_value())\n",
    "else:\n",
    "    print('The problem does not have an optimal solution.')\n",
    "\n",
    "print('\\nAdvanced usage:')\n",
    "print('Problem solved in %f milliseconds' % solver.wall_time())\n",
    "print('Problem solved in %d iterations' % solver.iterations())\n",
    "print('Problem solved in %d branch-and-bound nodes' % solver.nodes())\n",
    "\n",
    "\n"
   ]
  },
  {
   "cell_type": "code",
   "execution_count": 13,
   "metadata": {},
   "outputs": [],
   "source": [
    "class MRPP_2_IP:\n",
    "\n",
    "    def __init__(self, graph, num_agents):\n",
    "\n",
    "        self.num_agents = num_agents    \n",
    "        self.graph_original = graph\n",
    "        for e in self.graph_original.edges():\n",
    "            self.graph_original[e[0]][e[1]]['length'] = int(self.graph_original[e[0]][e[1]]['length'])\n",
    "        self.graph_complete = graph.copy()\n",
    "        self.nodes = list(self.graph_original.nodes())\n",
    "        self.paths = {}\n",
    "        # self.dist_from_pn = {}\n",
    "        # self.dist_to_pn = {}\n",
    "        # self.remaining_nodes = self.nodes.copy()\n",
    "        # self.time_period = 0\n",
    "        # for n in self.priority_nodes:\n",
    "        #     self.remaining_nodes.remove(n)\n",
    "        #     self.dist_to_pn[n] = {}\n",
    "        #     self.dist_from_pn[n] = {}\n",
    "        # print('1')\n",
    "        paths = dict(nx.all_pairs_dijkstra_path(self.graph_original, weight = 'length'))\n",
    "        # print('2')\n",
    "        for i in self.nodes:\n",
    "            # f = False\n",
    "            # if i in self.priority_nodes:\n",
    "            #     f = True\n",
    "            for j in self.nodes:\n",
    "                # t = False\n",
    "                # if j in self.priority_nodes:\n",
    "                #     t = True\n",
    "                if i == j and not (i, j) in self.graph_complete.edges():\n",
    "                    self.graph_complete.add_edge(i, j)\n",
    "                    self.graph_complete[i][j]['name'] = '{}to{}'.format(i, j)\n",
    "                    self.graph_complete[i][j]['length'] = 0\n",
    "                    self.paths[(i, j)] = [i, j]\n",
    "                elif i != j and not (i, j) in self.graph_complete.edges():\n",
    "                    self.graph_complete.add_edge(i, j)\n",
    "                    self.graph_complete[i][j]['name'] = '{}to{}'.format(i, j)\n",
    "                    self.graph_complete[i][j]['length'] = 0\n",
    "                    self.paths[(i, j)] = paths[i][j]\n",
    "                    for k in range(len(self.paths[i, j]) - 1):\n",
    "                        self.graph_complete[i][j]['length'] += self.graph_original[paths[i][j][k]][paths[i][j][k + 1]]['length']\n",
    "                elif i != j:\n",
    "                    self.paths[(i, j)] = [i, j]\n",
    "\n",
    "        self.edges = list(self.graph_complete.edges())\n",
    "        self.solver = pywraplp.Solver.CreateSolver('SCIP')\n",
    "        self.E = len(self.edges)\n",
    "        self.N = len(self.nodes)\n",
    "        \n",
    "       \n",
    "        self.x = {}\n",
    "        for a in range(self.num_agents):\n",
    "            self.x[a] = {}\n",
    "            for i, j in enumerate(self.edges):\n",
    "                self.x[a][j] = self.solver.IntVar(0, 1, 'x[{}, {}]'.format(j, a))\n",
    "        \n",
    "        self.a = {}\n",
    "        for a in range(self.num_agents):\n",
    "            self.a[a] = {}\n",
    "            for i, j in enumerate(self.nodes):\n",
    "                self.a[a][j] = self.solver.IntVar(0, 1, 'a[{}, {}]'.format(j, a))\n",
    "\n",
    "        self.b = {}\n",
    "        for a in range(self.num_agents):\n",
    "            self.b[a] = {}\n",
    "            for i, j in enumerate(self.nodes):\n",
    "                self.b[a][j] = self.solver.IntVar(0, 1, 'b[{}, {}]'.format(j, a))\n",
    "        "
   ]
  },
  {
   "cell_type": "code",
   "execution_count": 18,
   "metadata": {},
   "outputs": [],
   "source": [
    "g = nx.read_graphml('./graphs/grid_5_5.graphml')\n",
    "test = MRPP_2_IP(g, 4)\n",
    "g1 = test.graph_complete"
   ]
  },
  {
   "cell_type": "code",
   "execution_count": 16,
   "metadata": {},
   "outputs": [
    {
     "name": "stdout",
     "output_type": "stream",
     "text": [
      "25 625 2700\n"
     ]
    }
   ],
   "source": [
    "print(test.N, test.E, test.solver.NumVariables())"
   ]
  },
  {
   "cell_type": "code",
   "execution_count": 23,
   "metadata": {},
   "outputs": [
    {
     "data": {
      "text/plain": [
       "[('1', '0'),\n",
       " ('5', '0'),\n",
       " ('0', '0'),\n",
       " ('2', '0'),\n",
       " ('3', '0'),\n",
       " ('4', '0'),\n",
       " ('6', '0'),\n",
       " ('7', '0'),\n",
       " ('8', '0'),\n",
       " ('9', '0'),\n",
       " ('10', '0'),\n",
       " ('11', '0'),\n",
       " ('12', '0'),\n",
       " ('13', '0'),\n",
       " ('14', '0'),\n",
       " ('15', '0'),\n",
       " ('16', '0'),\n",
       " ('17', '0'),\n",
       " ('18', '0'),\n",
       " ('19', '0'),\n",
       " ('20', '0'),\n",
       " ('21', '0'),\n",
       " ('22', '0'),\n",
       " ('23', '0'),\n",
       " ('24', '0')]"
      ]
     },
     "execution_count": 23,
     "metadata": {},
     "output_type": "execute_result"
    }
   ],
   "source": [
    "list(g1.in_edges('0'))"
   ]
  }
 ],
 "metadata": {
  "interpreter": {
   "hash": "31f2aee4e71d21fbe5cf8b01ff0e069b9275f58929596ceb00d14d90e3e16cd6"
  },
  "kernelspec": {
   "display_name": "Python 3.6.9 64-bit",
   "language": "python",
   "name": "python3"
  },
  "language_info": {
   "codemirror_mode": {
    "name": "ipython",
    "version": 3
   },
   "file_extension": ".py",
   "mimetype": "text/x-python",
   "name": "python",
   "nbconvert_exporter": "python",
   "pygments_lexer": "ipython3",
   "version": "3.6.9"
  },
  "orig_nbformat": 4
 },
 "nbformat": 4,
 "nbformat_minor": 2
}
